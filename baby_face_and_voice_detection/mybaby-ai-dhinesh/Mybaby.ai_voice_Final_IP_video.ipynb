{
 "cells": [
  {
   "cell_type": "code",
   "execution_count": 3,
   "id": "fb257605",
   "metadata": {},
   "outputs": [],
   "source": [
    "def extract_mfcc(filename):\n",
    "    import librosa\n",
    "    y, sr = librosa.load(filename, duration=3, offset=0.5)\n",
    "    mfcc = np.mean(librosa.feature.mfcc(y=y, sr=sr, n_mfcc=40).T, axis=0)\n",
    "    return mfcc"
   ]
  },
  {
   "cell_type": "code",
   "execution_count": 21,
   "id": "6291d21f",
   "metadata": {},
   "outputs": [],
   "source": [
    "def audio(filepath,modelfile):\n",
    "    import moviepy.editor as mp\n",
    "    import joblib\n",
    "    import librosa\n",
    "    my_clip = mp.VideoFileClip(filepath)\n",
    "    my_clip.audio.write_audiofile(r\"my_result.mp3\")\n",
    "    model=joblib.load(modelfile)\n",
    "    extracted=extract_mfcc(\"my_result.mp3\")\n",
    "    Final_predictions=model.predict(extracted.reshape(1, -1))\n",
    "    if Final_predictions==0:\n",
    "        Final_predictions='Crying'\n",
    "    elif Final_predictions==1:\n",
    "        Final_predictions='Laughing'\n",
    "    else:\n",
    "        Final_predictions='Noise'\n",
    "    return Final_predictions"
   ]
  },
  {
   "cell_type": "code",
   "execution_count": 23,
   "id": "f7940ca9",
   "metadata": {
    "scrolled": false
   },
   "outputs": [
    {
     "name": "stdout",
     "output_type": "stream",
     "text": [
      "MoviePy - Writing audio in my_result.mp3\n"
     ]
    },
    {
     "name": "stderr",
     "output_type": "stream",
     "text": [
      "                                                                                                                       \r"
     ]
    },
    {
     "name": "stdout",
     "output_type": "stream",
     "text": [
      "MoviePy - Done.\n"
     ]
    },
    {
     "data": {
      "text/plain": [
       "'Noise'"
      ]
     },
     "execution_count": 23,
     "metadata": {},
     "output_type": "execute_result"
    }
   ],
   "source": [
    "modelfile=r\"C:\\Users\\Dhinesh Lee\\Desktop\\Baby cry rec_Dhinesh\\Speech Emotion Recognition - Sound Classification\\RF_uncompressed.joblib\"\n",
    "filepath=r\"C:\\Users\\Dhinesh Lee\\Desktop\\Baby cry rec_Dhinesh\\Speech Emotion Recognition - Sound Classification\\Baby  has cute conversation with TALKING CACTUS toy.mp4\"\n",
    "audio(filepath,modelfile)"
   ]
  },
  {
   "cell_type": "code",
   "execution_count": null,
   "id": "ecf5cb02",
   "metadata": {},
   "outputs": [],
   "source": []
  },
  {
   "cell_type": "code",
   "execution_count": null,
   "id": "995175e6",
   "metadata": {},
   "outputs": [],
   "source": []
  }
 ],
 "metadata": {
  "kernelspec": {
   "display_name": "Python 3 (ipykernel)",
   "language": "python",
   "name": "python3"
  },
  "language_info": {
   "codemirror_mode": {
    "name": "ipython",
    "version": 3
   },
   "file_extension": ".py",
   "mimetype": "text/x-python",
   "name": "python",
   "nbconvert_exporter": "python",
   "pygments_lexer": "ipython3",
   "version": "3.9.12"
  },
  "toc": {
   "base_numbering": 1,
   "nav_menu": {},
   "number_sections": true,
   "sideBar": true,
   "skip_h1_title": false,
   "title_cell": "Table of Contents",
   "title_sidebar": "Contents",
   "toc_cell": false,
   "toc_position": {},
   "toc_section_display": true,
   "toc_window_display": false
  },
  "varInspector": {
   "cols": {
    "lenName": 16,
    "lenType": 16,
    "lenVar": 40
   },
   "kernels_config": {
    "python": {
     "delete_cmd_postfix": "",
     "delete_cmd_prefix": "del ",
     "library": "var_list.py",
     "varRefreshCmd": "print(var_dic_list())"
    },
    "r": {
     "delete_cmd_postfix": ") ",
     "delete_cmd_prefix": "rm(",
     "library": "var_list.r",
     "varRefreshCmd": "cat(var_dic_list()) "
    }
   },
   "types_to_exclude": [
    "module",
    "function",
    "builtin_function_or_method",
    "instance",
    "_Feature"
   ],
   "window_display": false
  }
 },
 "nbformat": 4,
 "nbformat_minor": 5
}
