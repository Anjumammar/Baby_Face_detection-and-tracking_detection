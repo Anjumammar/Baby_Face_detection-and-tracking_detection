{
 "cells": [
  {
   "cell_type": "code",
   "execution_count": 1,
   "id": "fb257605",
   "metadata": {},
   "outputs": [],
   "source": [
    "def extract_mfcc(filename):\n",
    "    import librosa\n",
    "    y, sr = librosa.load(filename, duration=3, offset=0.5)\n",
    "    mfcc = np.mean(librosa.feature.mfcc(y=y, sr=sr, n_mfcc=40).T, axis=0)\n",
    "    return mfcc"
   ]
  },
  {
   "cell_type": "code",
   "execution_count": 2,
   "id": "9ce79ce1",
   "metadata": {},
   "outputs": [],
   "source": [
    "\n",
    "def audiolive():\n",
    "    import pyaudio\n",
    "    import wave\n",
    "\n",
    "    CHUNK = 1024\n",
    "    FORMAT = pyaudio.paInt16\n",
    "    CHANNELS = 2\n",
    "    RATE = 44100\n",
    "    RECORD_SECONDS = 5\n",
    "    WAVE_OUTPUT_FILENAME = \"new_baby_voice.wav\"\n",
    "\n",
    "    p = pyaudio.PyAudio()\n",
    "\n",
    "\n",
    "    stream = p.open(format=FORMAT, \n",
    "                    channels=CHANNELS,\n",
    "                    rate=RATE,\n",
    "                    input=True,\n",
    "                    frames_per_buffer=CHUNK)\n",
    "\n",
    "    print(\"* recording\")\n",
    "\n",
    "    frames = []\n",
    "\n",
    "    for i in range(0, int(RATE / CHUNK * RECORD_SECONDS)):\n",
    "        data = stream.read(CHUNK)\n",
    "        frames.append(data)\n",
    "\n",
    "    print(\"* done recording\")\n",
    "\n",
    "    stream.stop_stream()\n",
    "    stream.close()\n",
    "    p.terminate()\n",
    "\n",
    "    wf = wave.open(WAVE_OUTPUT_FILENAME, 'wb')\n",
    "    wf.setnchannels(CHANNELS)\n",
    "    wf.setsampwidth(p.get_sample_size(FORMAT))\n",
    "    wf.setframerate(RATE)\n",
    "    wf.writeframes(b''.join(frames))\n",
    "    wf.close()\n"
   ]
  },
  {
   "cell_type": "code",
   "execution_count": 4,
   "id": "6291d21f",
   "metadata": {},
   "outputs": [],
   "source": [
    "def audio(filepath,modelfile):\n",
    "    import joblib\n",
    "    import librosa\n",
    "    model=joblib.load(modelfile)\n",
    "    extracted=extract_mfcc(filepath)\n",
    "    Final_predictions=model.predict(extracted.reshape(1, -1)\n",
    "    if Final_predictions==0:\n",
    "        Final_predictions='Crying'\n",
    "    elif Final_predictions==1:\n",
    "        Final_predictions='Laughing'\n",
    "    else:\n",
    "        Final_predictions='Noise'\n",
    "    return Final_predictions"
   ]
  },
  {
   "cell_type": "code",
   "execution_count": 5,
   "id": "f7940ca9",
   "metadata": {
    "scrolled": false
   },
   "outputs": [],
   "source": [
    "modelfile=r\"C:\\Users\\Dhinesh Lee\\Desktop\\Baby cry rec_Dhinesh\\Speech Emotion Recognition - Sound Classification\\RF_uncompressed.joblib\"\n",
    "filepath=audiolive()except\n",
    "audio(\"new_baby_voice.wav\",modelfile)"
   ]
  }
 ],
 "metadata": {
  "kernelspec": {
   "display_name": "Python 3 (ipykernel)",
   "language": "python",
   "name": "python3"
  },
  "language_info": {
   "codemirror_mode": {
    "name": "ipython",
    "version": 3
   },
   "file_extension": ".py",
   "mimetype": "text/x-python",
   "name": "python",
   "nbconvert_exporter": "python",
   "pygments_lexer": "ipython3",
   "version": "3.9.12"
  },
  "toc": {
   "base_numbering": 1,
   "nav_menu": {},
   "number_sections": true,
   "sideBar": true,
   "skip_h1_title": false,
   "title_cell": "Table of Contents",
   "title_sidebar": "Contents",
   "toc_cell": false,
   "toc_position": {},
   "toc_section_display": true,
   "toc_window_display": false
  },
  "varInspector": {
   "cols": {
    "lenName": 16,
    "lenType": 16,
    "lenVar": 40
   },
   "kernels_config": {
    "python": {
     "delete_cmd_postfix": "",
     "delete_cmd_prefix": "del ",
     "library": "var_list.py",
     "varRefreshCmd": "print(var_dic_list())"
    },
    "r": {
     "delete_cmd_postfix": ") ",
     "delete_cmd_prefix": "rm(",
     "library": "var_list.r",
     "varRefreshCmd": "cat(var_dic_list()) "
    }
   },
   "types_to_exclude": [
    "module",
    "function",
    "builtin_function_or_method",
    "instance",
    "_Feature"
   ],
   "window_display": false
  }
 },
 "nbformat": 4,
 "nbformat_minor": 5
}
