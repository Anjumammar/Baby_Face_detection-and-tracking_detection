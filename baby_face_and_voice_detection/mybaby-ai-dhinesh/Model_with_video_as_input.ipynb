{
 "cells": [
  {
   "cell_type": "code",
   "execution_count": 2,
   "id": "15ebd395",
   "metadata": {},
   "outputs": [
    {
     "name": "stdout",
     "output_type": "stream",
     "text": [
      "Requirement already satisfied: ffmpeg in c:\\users\\dhinesh lee\\anaconda3\\lib\\site-packages (1.4)\n",
      "Requirement already satisfied: moviepy in c:\\users\\dhinesh lee\\anaconda3\\lib\\site-packages (1.0.3)\n",
      "Requirement already satisfied: requests<3.0,>=2.8.1 in c:\\users\\dhinesh lee\\anaconda3\\lib\\site-packages (from moviepy) (2.27.1)\n",
      "Requirement already satisfied: numpy in c:\\users\\dhinesh lee\\anaconda3\\lib\\site-packages (from moviepy) (1.21.6)\n",
      "Collecting decorator<5.0,>=4.0.2\n",
      "  Using cached decorator-4.4.2-py2.py3-none-any.whl (9.2 kB)\n",
      "Requirement already satisfied: proglog<=1.0.0 in c:\\users\\dhinesh lee\\anaconda3\\lib\\site-packages (from moviepy) (0.1.10)\n",
      "Requirement already satisfied: imageio-ffmpeg>=0.2.0 in c:\\users\\dhinesh lee\\anaconda3\\lib\\site-packages (from moviepy) (0.4.7)\n",
      "Requirement already satisfied: imageio<3.0,>=2.5 in c:\\users\\dhinesh lee\\anaconda3\\lib\\site-packages (from moviepy) (2.9.0)\n",
      "Requirement already satisfied: tqdm<5.0,>=4.11.2 in c:\\users\\dhinesh lee\\anaconda3\\lib\\site-packages (from moviepy) (4.64.0)\n",
      "Requirement already satisfied: pillow in c:\\users\\dhinesh lee\\anaconda3\\lib\\site-packages (from imageio<3.0,>=2.5->moviepy) (9.1.1)\n",
      "Requirement already satisfied: certifi>=2017.4.17 in c:\\users\\dhinesh lee\\appdata\\roaming\\python\\python39\\site-packages (from requests<3.0,>=2.8.1->moviepy) (2022.5.18.1)\n",
      "Requirement already satisfied: charset-normalizer~=2.0.0 in c:\\users\\dhinesh lee\\anaconda3\\lib\\site-packages (from requests<3.0,>=2.8.1->moviepy) (2.0.4)\n",
      "Requirement already satisfied: urllib3<1.27,>=1.21.1 in c:\\users\\dhinesh lee\\anaconda3\\lib\\site-packages (from requests<3.0,>=2.8.1->moviepy) (1.26.9)\n",
      "Requirement already satisfied: idna<4,>=2.5 in c:\\users\\dhinesh lee\\anaconda3\\lib\\site-packages (from requests<3.0,>=2.8.1->moviepy) (3.3)\n",
      "Requirement already satisfied: colorama in c:\\users\\dhinesh lee\\appdata\\roaming\\python\\python39\\site-packages (from tqdm<5.0,>=4.11.2->moviepy) (0.4.4)\n",
      "Installing collected packages: decorator\n",
      "  Attempting uninstall: decorator\n",
      "    Found existing installation: decorator 5.1.1\n",
      "    Uninstalling decorator-5.1.1:\n",
      "      Successfully uninstalled decorator-5.1.1"
     ]
    },
    {
     "name": "stderr",
     "output_type": "stream",
     "text": [
      "ERROR: pip's dependency resolver does not currently take into account all the packages that are installed. This behaviour is the source of the following dependency conflicts.\n",
      "spyder 5.1.5 requires pyqt5<5.13, which is not installed.\n",
      "spyder 5.1.5 requires pyqtwebengine<5.13, which is not installed.\n",
      "spyder-kernels 2.1.3 requires jupyter-client<7,>=5.3.4, but you have jupyter-client 7.1.2 which is incompatible.\n"
     ]
    },
    {
     "name": "stdout",
     "output_type": "stream",
     "text": [
      "\n",
      "Successfully installed decorator-4.4.2\n"
     ]
    }
   ],
   "source": [
    "#!pip install ffmpeg moviepy"
   ]
  },
  {
   "cell_type": "code",
   "execution_count": 48,
   "id": "73013eea",
   "metadata": {},
   "outputs": [],
   "source": [
    "import moviepy.editor as mp"
   ]
  },
  {
   "cell_type": "code",
   "execution_count": 74,
   "id": "6b58057d",
   "metadata": {},
   "outputs": [],
   "source": [
    "my_clip = mp.VideoFileClip(r\"C:\\Users\\Dhinesh Lee\\Desktop\\Baby cry rec_Dhinesh\\Speech Emotion Recognition - Sound Classification\\pakka lauging.mp4\")"
   ]
  },
  {
   "cell_type": "code",
   "execution_count": 75,
   "id": "4c0d9e2b",
   "metadata": {},
   "outputs": [
    {
     "data": {
      "text/plain": [
       "<moviepy.video.io.VideoFileClip.VideoFileClip at 0x1fff0e5d2e0>"
      ]
     },
     "execution_count": 75,
     "metadata": {},
     "output_type": "execute_result"
    }
   ],
   "source": [
    "my_clip"
   ]
  },
  {
   "cell_type": "code",
   "execution_count": 76,
   "id": "f71c94cf",
   "metadata": {},
   "outputs": [
    {
     "name": "stdout",
     "output_type": "stream",
     "text": [
      "MoviePy - Writing audio in my_result.mp3\n"
     ]
    },
    {
     "name": "stderr",
     "output_type": "stream",
     "text": [
      "                                                                                                                       "
     ]
    },
    {
     "name": "stdout",
     "output_type": "stream",
     "text": [
      "MoviePy - Done.\n"
     ]
    },
    {
     "name": "stderr",
     "output_type": "stream",
     "text": [
      "\r"
     ]
    }
   ],
   "source": [
    "my_clip.audio.write_audiofile(r\"my_result.mp3\")"
   ]
  },
  {
   "cell_type": "code",
   "execution_count": 67,
   "id": "c074a8d3",
   "metadata": {},
   "outputs": [],
   "source": [
    "import joblib\n",
    "import librosa"
   ]
  },
  {
   "cell_type": "code",
   "execution_count": 68,
   "id": "ebf5ddb3",
   "metadata": {},
   "outputs": [],
   "source": [
    "model=joblib.load(r\"C:\\Users\\Dhinesh Lee\\Desktop\\Baby cry rec_Dhinesh\\Speech Emotion Recognition - Sound Classification\\RF_uncompressed.joblib\")"
   ]
  },
  {
   "cell_type": "code",
   "execution_count": 69,
   "id": "fd775ca0",
   "metadata": {},
   "outputs": [],
   "source": [
    "def extract_mfcc(filename):\n",
    "    y, sr = librosa.load(filename, duration=3, offset=0.5)\n",
    "    mfcc = np.mean(librosa.feature.mfcc(y=y, sr=sr, n_mfcc=40).T, axis=0)\n",
    "    return mfcc"
   ]
  },
  {
   "cell_type": "code",
   "execution_count": 77,
   "id": "be9e7034",
   "metadata": {},
   "outputs": [],
   "source": [
    "extracted=extract_mfcc(r\"C:\\Users\\Dhinesh Lee\\Desktop\\Baby cry rec_Dhinesh\\Speech Emotion Recognition - Sound Classification\\my_result.mp3\")\n"
   ]
  },
  {
   "cell_type": "code",
   "execution_count": 78,
   "id": "9ab5f344",
   "metadata": {},
   "outputs": [
    {
     "data": {
      "text/plain": [
       "(40,)"
      ]
     },
     "execution_count": 78,
     "metadata": {},
     "output_type": "execute_result"
    }
   ],
   "source": [
    "extracted.shape"
   ]
  },
  {
   "cell_type": "code",
   "execution_count": 79,
   "id": "f124ab79",
   "metadata": {},
   "outputs": [],
   "source": [
    "Final_predictions=model.predict(extracted.reshape(1, -1))"
   ]
  },
  {
   "cell_type": "code",
   "execution_count": 80,
   "id": "ab97a0ed",
   "metadata": {},
   "outputs": [
    {
     "data": {
      "text/plain": [
       "array([0])"
      ]
     },
     "execution_count": 80,
     "metadata": {},
     "output_type": "execute_result"
    }
   ],
   "source": [
    "Final_predictions"
   ]
  },
  {
   "cell_type": "code",
   "execution_count": null,
   "id": "8eb97369",
   "metadata": {},
   "outputs": [],
   "source": []
  }
 ],
 "metadata": {
  "kernelspec": {
   "display_name": "Python 3 (ipykernel)",
   "language": "python",
   "name": "python3"
  },
  "language_info": {
   "codemirror_mode": {
    "name": "ipython",
    "version": 3
   },
   "file_extension": ".py",
   "mimetype": "text/x-python",
   "name": "python",
   "nbconvert_exporter": "python",
   "pygments_lexer": "ipython3",
   "version": "3.9.12"
  },
  "toc": {
   "base_numbering": 1,
   "nav_menu": {},
   "number_sections": true,
   "sideBar": true,
   "skip_h1_title": false,
   "title_cell": "Table of Contents",
   "title_sidebar": "Contents",
   "toc_cell": false,
   "toc_position": {},
   "toc_section_display": true,
   "toc_window_display": false
  },
  "varInspector": {
   "cols": {
    "lenName": 16,
    "lenType": 16,
    "lenVar": 40
   },
   "kernels_config": {
    "python": {
     "delete_cmd_postfix": "",
     "delete_cmd_prefix": "del ",
     "library": "var_list.py",
     "varRefreshCmd": "print(var_dic_list())"
    },
    "r": {
     "delete_cmd_postfix": ") ",
     "delete_cmd_prefix": "rm(",
     "library": "var_list.r",
     "varRefreshCmd": "cat(var_dic_list()) "
    }
   },
   "types_to_exclude": [
    "module",
    "function",
    "builtin_function_or_method",
    "instance",
    "_Feature"
   ],
   "window_display": false
  }
 },
 "nbformat": 4,
 "nbformat_minor": 5
}
